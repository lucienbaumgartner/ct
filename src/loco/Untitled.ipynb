{
 "cells": [
  {
   "cell_type": "code",
   "execution_count": 2,
   "id": "dfe15ebc",
   "metadata": {},
   "outputs": [
    {
     "name": "stdout",
     "output_type": "stream",
     "text": [
      "Requirement already satisfied: pacmap in /Users/lucienbaumgartner/opt/anaconda3/lib/python3.9/site-packages (0.7.0)\r\n",
      "Requirement already satisfied: scikit-learn>=0.20 in /Users/lucienbaumgartner/opt/anaconda3/lib/python3.9/site-packages (from pacmap) (1.0.2)\r\n",
      "Requirement already satisfied: numba>=0.50 in /Users/lucienbaumgartner/opt/anaconda3/lib/python3.9/site-packages (from pacmap) (0.55.1)\r\n",
      "Requirement already satisfied: annoy>=1.11 in /Users/lucienbaumgartner/opt/anaconda3/lib/python3.9/site-packages (from pacmap) (1.17.3)\r\n",
      "Requirement already satisfied: numpy>=1.20 in /Users/lucienbaumgartner/opt/anaconda3/lib/python3.9/site-packages (from pacmap) (1.21.6)\r\n",
      "Requirement already satisfied: setuptools in /Users/lucienbaumgartner/opt/anaconda3/lib/python3.9/site-packages (from numba>=0.50->pacmap) (67.8.0)\r\n",
      "Requirement already satisfied: llvmlite<0.39,>=0.38.0rc1 in /Users/lucienbaumgartner/opt/anaconda3/lib/python3.9/site-packages (from numba>=0.50->pacmap) (0.38.0)\r\n",
      "Requirement already satisfied: joblib>=0.11 in /Users/lucienbaumgartner/opt/anaconda3/lib/python3.9/site-packages (from scikit-learn>=0.20->pacmap) (1.1.0)\r\n",
      "Requirement already satisfied: scipy>=1.1.0 in /Users/lucienbaumgartner/opt/anaconda3/lib/python3.9/site-packages (from scikit-learn>=0.20->pacmap) (1.9.1)\r\n",
      "Requirement already satisfied: threadpoolctl>=2.0.0 in /Users/lucienbaumgartner/opt/anaconda3/lib/python3.9/site-packages (from scikit-learn>=0.20->pacmap) (2.2.0)\r\n"
     ]
    }
   ],
   "source": [
    "!pip install pacmap"
   ]
  },
  {
   "cell_type": "code",
   "execution_count": 1,
   "id": "1f497d74",
   "metadata": {},
   "outputs": [],
   "source": [
    "import pacmap\n",
    "import os\n",
    "import re\n",
    "import math\n",
    "import numpy as np\n",
    "import pandas as pd\n",
    "import matplotlib.pyplot as plt"
   ]
  },
  {
   "cell_type": "code",
   "execution_count": 2,
   "id": "c94ac74c",
   "metadata": {},
   "outputs": [
    {
     "data": {
      "text/plain": [
       "['data_conspiracy.txt', 'data_mainstream.txt']"
      ]
     },
     "execution_count": 2,
     "metadata": {},
     "output_type": "execute_result"
    }
   ],
   "source": [
    "files = [f for f in os.listdir('../../output/loco/data/') if re.match(r'data', f)]\n",
    "files"
   ]
  },
  {
   "cell_type": "code",
   "execution_count": 3,
   "id": "7035f8d4",
   "metadata": {},
   "outputs": [],
   "source": [
    "for file in files:\n",
    "    X = pd.read_csv('../../output/loco/data/' + file, header = None, delimiter = \",\")\n",
    "    nns = int(10 + 15 * (math.log10(len(X.index)) - 4))\n",
    "    embedding = pacmap.PaCMAP(n_components=2, \n",
    "                              n_neighbors=nns, \n",
    "                              MN_ratio=0.5, \n",
    "                              FP_ratio=2.0)\n",
    "    X_transformed = embedding.fit_transform(X, init=\"pca\")\n",
    "    X_transformed = pd.DataFrame(X_transformed, columns = ['Dim1','Dim2'])\n",
    "    X_transformed.to_csv(\"../../output/loco/data/pacmap_\" + file, index = False)"
   ]
  }
 ],
 "metadata": {
  "kernelspec": {
   "display_name": "Python 3 (ipykernel)",
   "language": "python",
   "name": "python3"
  },
  "language_info": {
   "codemirror_mode": {
    "name": "ipython",
    "version": 3
   },
   "file_extension": ".py",
   "mimetype": "text/x-python",
   "name": "python",
   "nbconvert_exporter": "python",
   "pygments_lexer": "ipython3",
   "version": "3.9.13"
  }
 },
 "nbformat": 4,
 "nbformat_minor": 5
}
